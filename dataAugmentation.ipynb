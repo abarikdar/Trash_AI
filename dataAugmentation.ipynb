{
 "cells": [
  {
   "cell_type": "code",
   "execution_count": 39,
   "id": "0f42cb53",
   "metadata": {
    "scrolled": false
   },
   "outputs": [],
   "source": [
    "import imgaug.augmenters as iaa\n",
    "import imgaug.augmentables as iaa_a\n",
    "import xml.etree.ElementTree as ET\n",
    "import os\n",
    "from PIL import Image\n",
    "import numpy as np\n",
    "\n",
    "# Define the augmentation sequence\n",
    "seq = iaa.Sequential([iaa.Flipud(0.5), iaa.Fliplr(0.5), iaa.Affine(rotate=(-10, 10)), iaa.GaussianBlur(sigma=(0, 1.0))])\n",
    "\n",
    "# Define the input and output directories\n",
    "input_dir = (r\"C:\\Users\\sarah\\Trash_AI\\Dataset\\All_Photos_and_XML_Files\")\n",
    "output_dir = (r\"C:\\Users\\sarah\\Trash_AI\\Dataset\\Augmented_Photo_Files\")\n",
    "\n",
    "# Loop over the input directory\n",
    "for file_name in os.listdir(input_dir):\n",
    "    if file_name.endswith('.xml'):\n",
    "        # Load the image and XML file\n",
    "        image_file = os.path.splitext(file_name)[0] + '.jpg'\n",
    "        image = Image.open(os.path.join(input_dir, image_file))\n",
    "        image = np.asarray(image)\n",
    "        tree = ET.parse(os.path.join(input_dir, file_name))\n",
    "        root = tree.getroot()\n",
    "\n",
    "        # Extract the image size from the XML file\n",
    "        width = int(root.find('size/width').text)\n",
    "        height = int(root.find('size/height').text)\n",
    "\n",
    "        # Define the bounding boxes for the XML file\n",
    "        bboxes = []\n",
    "        for obj in root.findall('object'):\n",
    "            xmin = int(obj.find('bndbox/xmin').text)\n",
    "            ymin = int(obj.find('bndbox/ymin').text)\n",
    "            xmax = int(obj.find('bndbox/xmax').text)\n",
    "            ymax = int(obj.find('bndbox/ymax').text)\n",
    "            bboxes.append(iaa_a.BoundingBox(x1=xmin, y1=ymin, x2=xmax, y2=ymax, label=obj.find('name').text))\n",
    "            #print(bboxes)\n",
    "            bboxes = [iaa_a.BoundingBoxesOnImage(bboxes, shape=image.shape)]\n",
    "            #print(bboxes)\n",
    "            \n",
    "        # Apply the augmentation sequence to the image and bounding boxes\n",
    "        seq_det = seq.to_deterministic()\n",
    "        image_aug = seq_det.augment_image(image)\n",
    "        #bboxes_aug = seq_det.augment_bounding_boxes([bboxes], [image])[0]\n",
    "        bboxes_aug = seq_det.augment_bounding_boxes(bboxes, [image.shape])[0]\n",
    "\n",
    "        # Update the XML file with the augmented bounding boxes\n",
    "        for i, obj in enumerate(root.findall('object')):\n",
    "            obj.find('bndbox/xmin').text = str(int(bboxes_aug.bounding_boxes[i].x1))\n",
    "            obj.find('bndbox/ymin').text = str(int(bboxes_aug.bounding_boxes[i].y1))\n",
    "            obj.find('bndbox/xmax').text = str(int(bboxes_aug.bounding_boxes[i].x2))\n",
    "            obj.find('bndbox/ymax').text = str(int(bboxes_aug.bounding_boxes[i].y2))\n",
    "\n",
    "        # Save the augmented image and XML file\n",
    "        image_aug = Image.fromarray(image_aug)\n",
    "        image_aug.save(os.path.join(output_dir, image_file))\n",
    "        tree.write(os.path.join(output_dir, file_name))\n"
   ]
  },
  {
   "cell_type": "code",
   "execution_count": null,
   "id": "71566369",
   "metadata": {},
   "outputs": [],
   "source": []
  }
 ],
 "metadata": {
  "kernelspec": {
   "display_name": "Python 3 (ipykernel)",
   "language": "python",
   "name": "python3"
  },
  "language_info": {
   "codemirror_mode": {
    "name": "ipython",
    "version": 3
   },
   "file_extension": ".py",
   "mimetype": "text/x-python",
   "name": "python",
   "nbconvert_exporter": "python",
   "pygments_lexer": "ipython3",
   "version": "3.10.9"
  }
 },
 "nbformat": 4,
 "nbformat_minor": 5
}
