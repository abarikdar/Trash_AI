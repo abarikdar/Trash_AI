{
 "cells": [
  {
   "cell_type": "code",
   "execution_count": null,
   "id": "6a28bd4b",
   "metadata": {},
   "outputs": [],
   "source": [
    "import tensorflow as tf\n",
    "import pandas as pd\n",
    "from tensorflow import keras\n",
    "from tensorflow.keras import layers\n",
    "\n",
    "directory = 'trash_ai_annotated_photos' #directory with annotated photos\n",
    "df = pd.read_csv(directory + '\\annotations.csv') #directory of csv file\n",
    "\n",
    "#files should be named label_index\n",
    "file_paths = df['file_name'].values #for example: plastic_1.jpg\n",
    "#print(file_paths)\n",
    "\n",
    "labels = df['name'].values #column in csv called name which is what we labeled the object in photo\n",
    "#first value of filepath is equal to the label of the first element, maps everything together\n",
    "ds_train = tf.data.Dataset.from_tensor_slices((file_paths, labels))\n",
    "\n",
    "def read_image(image_file, label):\n",
    "    image = tf.io.read_file(directory + image_file) #read the image file\n",
    "    image = tf.image.decode_image(image, dtype=tf.float32) #detects what kind of image it is (JPEG, PNG, etc.) and converts it to a Tensor of type dtype\n",
    "    return image, label\n",
    "\n",
    "def augment(image, label)\n",
    "    #to change the height and width of the image\n",
    "    new_height = 32\n",
    "    new_width = 32\n",
    "    image = tf.image.resize(image, (new_height, new_width))\n",
    "    \n",
    "    #to convert the image to grayscale\n",
    "    image = tf.image.rgb_to_grayscale(image)\n",
    "    \n",
    "    return image, label\n",
    "\n",
    "ds_train = ds_train.map(read_image).map(augment).batch(2)\n",
    "#batch (2) = num samples processed before model is updated"
   ]
  },
  {
   "cell_type": "code",
   "execution_count": null,
   "id": "81ca156c",
   "metadata": {},
   "outputs": [],
   "source": []
  }
 ],
 "metadata": {
  "kernelspec": {
   "display_name": "Python 3 (ipykernel)",
   "language": "python",
   "name": "python3"
  },
  "language_info": {
   "codemirror_mode": {
    "name": "ipython",
    "version": 3
   },
   "file_extension": ".py",
   "mimetype": "text/x-python",
   "name": "python",
   "nbconvert_exporter": "python",
   "pygments_lexer": "ipython3",
   "version": "3.10.9"
  }
 },
 "nbformat": 4,
 "nbformat_minor": 5
}
