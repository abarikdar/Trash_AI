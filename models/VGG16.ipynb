{
  "nbformat": 4,
  "nbformat_minor": 0,
  "metadata": {
    "colab": {
      "provenance": []
    },
    "kernelspec": {
      "name": "python3",
      "display_name": "Python 3"
    },
    "language_info": {
      "name": "python"
    },
    "accelerator": "GPU",
    "gpuClass": "standard"
  },
  "cells": [
    {
      "cell_type": "code",
      "execution_count": null,
      "metadata": {
        "colab": {
          "base_uri": "https://localhost:8080/"
        },
        "id": "2XcN8HG3VoQN",
        "outputId": "293d2d98-95ae-47d2-bc7e-5b4d4e61ddca"
      },
      "outputs": [
        {
          "output_type": "stream",
          "name": "stdout",
          "text": [
            "Mounted at /content/drive\n"
          ]
        }
      ],
      "source": [
        "from google.colab import drive\n",
        "drive.mount('/content/drive')"
      ]
    },
    {
      "cell_type": "code",
      "source": [
        "%pwd"
      ],
      "metadata": {
        "colab": {
          "base_uri": "https://localhost:8080/",
          "height": 35
        },
        "id": "2Ce7gn0aWFK7",
        "outputId": "3d05ee6c-9a7f-4e10-ce82-69423ae3417d"
      },
      "execution_count": null,
      "outputs": [
        {
          "output_type": "execute_result",
          "data": {
            "text/plain": [
              "'/content'"
            ],
            "application/vnd.google.colaboratory.intrinsic+json": {
              "type": "string"
            }
          },
          "metadata": {},
          "execution_count": 2
        }
      ]
    },
    {
      "cell_type": "code",
      "source": [
        "from tensorflow.keras.preprocessing import image_dataset_from_directory\n",
        "\n",
        "# This is in my google drive\n",
        "train_dataset_directory = '/content/drive/MyDrive/Dataset/train/train'\n",
        "test_dataset_directory = '/content/drive/MyDrive/Dataset/test/test'\n",
        "\n",
        "training_dataset = image_dataset_from_directory(train_dataset_directory,                                         \n",
        "                                             batch_size=32,\n",
        "                                             image_size=(224, 224),\n",
        "                                             seed = 42,\n",
        "                                             subset= 'training',\n",
        "                                             validation_split=0.2) # 20% of data will be used for validation)                        https://stackoverflow.com/questions/58565394/what-is-the-difference-between-sparse-categorical-crossentropy-and-categorical-c\n",
        "\n",
        "validation_datset = image_dataset_from_directory(train_dataset_directory,\n",
        "                                              validation_split=0.2, # 20% of data will be used for validation\n",
        "                                              subset='validation',\n",
        "                                              seed=42, # random number shuffler of data. Same as training for consistency\n",
        "                                              image_size=(224, 224),\n",
        "                                              batch_size=32)\n",
        "\n",
        "test_dataset = image_dataset_from_directory(test_dataset_directory,                                         \n",
        "                                             batch_size=32,\n",
        "                                             image_size=(224, 224)) \n",
        "\n",
        "\n",
        "\n",
        "class_names = training_dataset.class_names\n",
        "print(class_names)"
      ],
      "metadata": {
        "colab": {
          "base_uri": "https://localhost:8080/"
        },
        "id": "Ob3uOpp5WGOs",
        "outputId": "07413222-f5b2-4e5b-d02b-2af3f557390b"
      },
      "execution_count": null,
      "outputs": [
        {
          "output_type": "stream",
          "name": "stdout",
          "text": [
            "Found 993 files belonging to 3 classes.\n",
            "Using 795 files for training.\n",
            "Found 993 files belonging to 3 classes.\n",
            "Using 198 files for validation.\n",
            "Found 267 files belonging to 3 classes.\n",
            "['paper', 'plastic', 'trash']\n"
          ]
        }
      ]
    },
    {
      "cell_type": "code",
      "source": [
        "from tensorflow.data.experimental import AUTOTUNE\n",
        "\n",
        "# Allows the system to automatiucally determine optimal buffer size. May help improve traininng speed\n",
        "training_dataset = training_dataset.prefetch(buffer_size=AUTOTUNE) "
      ],
      "metadata": {
        "id": "QcB6DHTNWH9V"
      },
      "execution_count": null,
      "outputs": []
    },
    {
      "cell_type": "code",
      "source": [
        "from tensorflow.keras.layers.experimental.preprocessing import RandomFlip, RandomRotation, RandomZoom, RandomTranslation\n",
        "from tensorflow.keras import Sequential\n",
        "# data augeentation here. https://www.tensorflow.org/tutorials/images/data_augmentation#data_augmentation_2\n",
        "\n",
        "# Data augmentation layers. This does NOT increase the amount of data. Instead it augements on the Fly\n",
        "# Meaning during training the model will randomly see the data rotated, flipped, zoomed or translated\n",
        "data_augmentation = Sequential([\n",
        "    RandomRotation(0.1),\n",
        "    RandomFlip(\"horizontal\"),\n",
        "    RandomZoom(0.1),\n",
        "    RandomTranslation(0.1, 0.1),\n",
        "])\n",
        "\n",
        "\n",
        "train_ds = training_dataset.map(lambda images, labels: (data_augmentation(images), labels))\n",
        "print(train_ds)"
      ],
      "metadata": {
        "colab": {
          "base_uri": "https://localhost:8080/"
        },
        "id": "siPZZr9EWJgx",
        "outputId": "cd2b857a-de70-4577-8199-1983dbbefbe3"
      },
      "execution_count": null,
      "outputs": [
        {
          "output_type": "stream",
          "name": "stdout",
          "text": [
            "<_MapDataset element_spec=(TensorSpec(shape=(None, 224, 224, 3), dtype=tf.float32, name=None), TensorSpec(shape=(None,), dtype=tf.int32, name=None))>\n"
          ]
        }
      ]
    },
    {
      "cell_type": "code",
      "source": [
        "# pre process input \n",
        "from tensorflow.keras.applications.vgg16 import preprocess_input\n",
        "\n",
        "# pre-processes by the mean and standard deviation of certain values, while making the pixels be between [-1,1] See here https://pytorch.org/hub/pytorch_vision_mobilenet_v2/\n",
        "train_ds = training_dataset.map(lambda images, labels: (preprocess_input(images), labels))\n",
        "val_ds = validation_datset.map(lambda images, labels: (preprocess_input(images), labels))\n",
        "test_dataset = test_dataset.map(lambda images, labels: (preprocess_input(images), labels))"
      ],
      "metadata": {
        "id": "0iEvqWqtWLQ7"
      },
      "execution_count": null,
      "outputs": []
    },
    {
      "cell_type": "code",
      "source": [
        "from keras.applications import VGG16\n",
        "from keras.layers import GlobalAveragePooling2D\n",
        "from keras.layers import Dense\n",
        "from keras.models import Model\n",
        "from keras import regularizers\n",
        "from keras.layers import Dense, Flatten, Dropout, BatchNormalization\n",
        "\n",
        "base_model = VGG16(weights = \"imagenet\", include_top=False, \n",
        "                         input_shape = (224,224, 3))\n",
        "base_model.trainable = None\n",
        "last_layer = base_model.get_layer('block5_pool') ## Save last layer of network\n",
        "last_output = last_layer.output\n",
        "\n",
        "\n",
        "flattened_output = Flatten()(last_output)\n",
        "\n",
        "hidden_layer = Dense(64, activation='relu', name='FC_3')(flattened_output)\n",
        "batch_norm = BatchNormalization()(hidden_layer)\n",
        "dropout = Dropout(0.5)(batch_norm)\n",
        "output_layer = Dense(3, activation='softmax', name='softmax')(dropout)\n",
        "\n",
        "new_model = Model(inputs=base_model.input, outputs = output_layer)\n",
        "new_model.summary()"
      ],
      "metadata": {
        "colab": {
          "base_uri": "https://localhost:8080/"
        },
        "id": "7uvVD3MEWb7i",
        "outputId": "8fadb420-aca4-42fb-adc8-72e9c3ee6419"
      },
      "execution_count": null,
      "outputs": [
        {
          "output_type": "stream",
          "name": "stdout",
          "text": [
            "Downloading data from https://storage.googleapis.com/tensorflow/keras-applications/vgg16/vgg16_weights_tf_dim_ordering_tf_kernels_notop.h5\n",
            "58889256/58889256 [==============================] - 3s 0us/step\n",
            "Model: \"model\"\n",
            "_________________________________________________________________\n",
            " Layer (type)                Output Shape              Param #   \n",
            "=================================================================\n",
            " input_1 (InputLayer)        [(None, 224, 224, 3)]     0         \n",
            "                                                                 \n",
            " block1_conv1 (Conv2D)       (None, 224, 224, 64)      1792      \n",
            "                                                                 \n",
            " block1_conv2 (Conv2D)       (None, 224, 224, 64)      36928     \n",
            "                                                                 \n",
            " block1_pool (MaxPooling2D)  (None, 112, 112, 64)      0         \n",
            "                                                                 \n",
            " block2_conv1 (Conv2D)       (None, 112, 112, 128)     73856     \n",
            "                                                                 \n",
            " block2_conv2 (Conv2D)       (None, 112, 112, 128)     147584    \n",
            "                                                                 \n",
            " block2_pool (MaxPooling2D)  (None, 56, 56, 128)       0         \n",
            "                                                                 \n",
            " block3_conv1 (Conv2D)       (None, 56, 56, 256)       295168    \n",
            "                                                                 \n",
            " block3_conv2 (Conv2D)       (None, 56, 56, 256)       590080    \n",
            "                                                                 \n",
            " block3_conv3 (Conv2D)       (None, 56, 56, 256)       590080    \n",
            "                                                                 \n",
            " block3_pool (MaxPooling2D)  (None, 28, 28, 256)       0         \n",
            "                                                                 \n",
            " block4_conv1 (Conv2D)       (None, 28, 28, 512)       1180160   \n",
            "                                                                 \n",
            " block4_conv2 (Conv2D)       (None, 28, 28, 512)       2359808   \n",
            "                                                                 \n",
            " block4_conv3 (Conv2D)       (None, 28, 28, 512)       2359808   \n",
            "                                                                 \n",
            " block4_pool (MaxPooling2D)  (None, 14, 14, 512)       0         \n",
            "                                                                 \n",
            " block5_conv1 (Conv2D)       (None, 14, 14, 512)       2359808   \n",
            "                                                                 \n",
            " block5_conv2 (Conv2D)       (None, 14, 14, 512)       2359808   \n",
            "                                                                 \n",
            " block5_conv3 (Conv2D)       (None, 14, 14, 512)       2359808   \n",
            "                                                                 \n",
            " block5_pool (MaxPooling2D)  (None, 7, 7, 512)         0         \n",
            "                                                                 \n",
            " flatten (Flatten)           (None, 25088)             0         \n",
            "                                                                 \n",
            " FC_3 (Dense)                (None, 64)                1605696   \n",
            "                                                                 \n",
            " batch_normalization (BatchN  (None, 64)               256       \n",
            " ormalization)                                                   \n",
            "                                                                 \n",
            " dropout (Dropout)           (None, 64)                0         \n",
            "                                                                 \n",
            " softmax (Dense)             (None, 3)                 195       \n",
            "                                                                 \n",
            "=================================================================\n",
            "Total params: 16,320,835\n",
            "Trainable params: 1,606,019\n",
            "Non-trainable params: 14,714,816\n",
            "_________________________________________________________________\n"
          ]
        }
      ]
    },
    {
      "cell_type": "code",
      "source": [
        "# Standard params. Adam and sparse loss are community defaults\n",
        "from keras.optimizers.adam import Adam\n",
        "\n",
        "# default learning rate is 0.001. Lowering it to improve training data\n",
        "adam = Adam(learning_rate = 0.0001) \n",
        "new_model.compile(optimizer=adam, loss='sparse_categorical_crossentropy', metrics=['accuracy'])"
      ],
      "metadata": {
        "id": "9DJMhQdpw5QF"
      },
      "execution_count": null,
      "outputs": []
    },
    {
      "cell_type": "code",
      "source": [
        "history = new_model.fit(\n",
        "    train_ds,\n",
        "    epochs=19,\n",
        "    validation_data=val_ds,\n",
        "    verbose = 2,\n",
        "    batch_size = len(train_ds)) # uses BGD instead of SGD"
      ],
      "metadata": {
        "colab": {
          "base_uri": "https://localhost:8080/"
        },
        "id": "D0PG9Y-JylQb",
        "outputId": "f8569e84-c129-4134-bc53-010e794c3745"
      },
      "execution_count": null,
      "outputs": [
        {
          "output_type": "stream",
          "name": "stdout",
          "text": [
            "Epoch 1/19\n",
            "25/25 - 9s - loss: 0.0042 - accuracy: 1.0000 - val_loss: 0.1953 - val_accuracy: 0.9293 - 9s/epoch - 363ms/step\n",
            "Epoch 2/19\n",
            "25/25 - 5s - loss: 0.0052 - accuracy: 1.0000 - val_loss: 0.1930 - val_accuracy: 0.9293 - 5s/epoch - 208ms/step\n",
            "Epoch 3/19\n",
            "25/25 - 7s - loss: 0.0036 - accuracy: 1.0000 - val_loss: 0.1951 - val_accuracy: 0.9293 - 7s/epoch - 265ms/step\n",
            "Epoch 4/19\n",
            "25/25 - 6s - loss: 0.0047 - accuracy: 1.0000 - val_loss: 0.1940 - val_accuracy: 0.9293 - 6s/epoch - 220ms/step\n",
            "Epoch 5/19\n",
            "25/25 - 6s - loss: 0.0035 - accuracy: 1.0000 - val_loss: 0.1949 - val_accuracy: 0.9293 - 6s/epoch - 226ms/step\n",
            "Epoch 6/19\n",
            "25/25 - 6s - loss: 0.0046 - accuracy: 1.0000 - val_loss: 0.1990 - val_accuracy: 0.9293 - 6s/epoch - 253ms/step\n",
            "Epoch 7/19\n",
            "25/25 - 6s - loss: 0.0025 - accuracy: 1.0000 - val_loss: 0.1929 - val_accuracy: 0.9242 - 6s/epoch - 254ms/step\n",
            "Epoch 8/19\n",
            "25/25 - 6s - loss: 0.0021 - accuracy: 1.0000 - val_loss: 0.2029 - val_accuracy: 0.9242 - 6s/epoch - 220ms/step\n",
            "Epoch 9/19\n",
            "25/25 - 5s - loss: 0.0029 - accuracy: 1.0000 - val_loss: 0.2021 - val_accuracy: 0.9242 - 5s/epoch - 201ms/step\n",
            "Epoch 10/19\n",
            "25/25 - 6s - loss: 0.0020 - accuracy: 1.0000 - val_loss: 0.2101 - val_accuracy: 0.9192 - 6s/epoch - 255ms/step\n",
            "Epoch 11/19\n",
            "25/25 - 6s - loss: 0.0024 - accuracy: 1.0000 - val_loss: 0.2141 - val_accuracy: 0.9192 - 6s/epoch - 257ms/step\n",
            "Epoch 12/19\n",
            "25/25 - 5s - loss: 0.0027 - accuracy: 1.0000 - val_loss: 0.2082 - val_accuracy: 0.9293 - 5s/epoch - 205ms/step\n",
            "Epoch 13/19\n",
            "25/25 - 6s - loss: 0.0040 - accuracy: 1.0000 - val_loss: 0.2042 - val_accuracy: 0.9293 - 6s/epoch - 241ms/step\n",
            "Epoch 14/19\n",
            "25/25 - 5s - loss: 0.0015 - accuracy: 1.0000 - val_loss: 0.2047 - val_accuracy: 0.9293 - 5s/epoch - 204ms/step\n",
            "Epoch 15/19\n",
            "25/25 - 8s - loss: 0.0025 - accuracy: 1.0000 - val_loss: 0.2027 - val_accuracy: 0.9242 - 8s/epoch - 306ms/step\n",
            "Epoch 16/19\n",
            "25/25 - 6s - loss: 0.0026 - accuracy: 1.0000 - val_loss: 0.2105 - val_accuracy: 0.9293 - 6s/epoch - 254ms/step\n",
            "Epoch 17/19\n",
            "25/25 - 5s - loss: 0.0015 - accuracy: 1.0000 - val_loss: 0.2275 - val_accuracy: 0.9293 - 5s/epoch - 200ms/step\n",
            "Epoch 18/19\n",
            "25/25 - 5s - loss: 0.0025 - accuracy: 1.0000 - val_loss: 0.2225 - val_accuracy: 0.9293 - 5s/epoch - 202ms/step\n",
            "Epoch 19/19\n",
            "25/25 - 6s - loss: 0.0020 - accuracy: 1.0000 - val_loss: 0.2115 - val_accuracy: 0.9293 - 6s/epoch - 253ms/step\n"
          ]
        }
      ]
    },
    {
      "cell_type": "code",
      "source": [
        "test_loss, test_accuracy = new_model.evaluate(test_dataset)\n",
        "print(f'Test accuracy: {test_accuracy * 100:.2f}%')\n"
      ],
      "metadata": {
        "id": "6DNLgNF5ypJ1",
        "colab": {
          "base_uri": "https://localhost:8080/"
        },
        "outputId": "4e28bdb4-1283-40f1-952c-c6669057106e"
      },
      "execution_count": null,
      "outputs": [
        {
          "output_type": "stream",
          "name": "stdout",
          "text": [
            "9/9 [==============================] - 2s 123ms/step - loss: 0.2565 - accuracy: 0.9251\n",
            "Test accuracy: 92.51%\n"
          ]
        }
      ]
    },
    {
      "cell_type": "code",
      "source": [
        "new_model.save('/content/drive/MyDrive/vgg16.h5')\n",
        "# previous save saved somewhere i dont know"
      ],
      "metadata": {
        "id": "ME6tFtQCzonP"
      },
      "execution_count": null,
      "outputs": []
    },
    {
      "cell_type": "code",
      "source": [
        "import matplotlib.pyplot as plt\n",
        "\n",
        "# Plot the training/validation loss\n",
        "plt.figure(figsize=(12, 4))\n",
        "plt.subplot(1, 2, 1)\n",
        "plt.plot(history.history['loss'], label='Training Loss')\n",
        "plt.plot(history.history['val_loss'], label='Validation Loss')\n",
        "plt.xlabel('Epoch')\n",
        "plt.ylabel('Loss')\n",
        "plt.legend()\n",
        "\n",
        "# Plot the training/validation accuracy\n",
        "plt.subplot(1, 2, 2)\n",
        "plt.plot(history.history['accuracy'], label='Train')\n",
        "plt.plot(history.history['val_accuracy'], label='Test')\n",
        "plt.xlabel('Epoch')\n",
        "plt.ylabel('Accuracy')\n",
        "plt.legend()\n",
        "\n",
        "plt.show()\n",
        "\n",
        "\"\"\"\n",
        "Graph one shows that the model is learning, mbut failed to generalize on the validation.\n",
        "This is a form of overfitting the data. Our model is too complex for our data.\n",
        "\n",
        "Solutions: Obtain more data to avoid overfitting or perform overfitting techniques\n",
        "\"\"\""
      ],
      "metadata": {
        "id": "n5R-qezIyqLf",
        "colab": {
          "base_uri": "https://localhost:8080/",
          "height": 424
        },
        "outputId": "bb0b81f7-4f8b-4ed2-8ac9-f9b35f7d8631"
      },
      "execution_count": null,
      "outputs": [
        {
          "output_type": "display_data",
          "data": {
            "text/plain": [
              "<Figure size 1200x400 with 2 Axes>"
            ],
            "image/png": "[encoded data removed]"
          },
          "metadata": {}
        },
        {
          "output_type": "execute_result",
          "data": {
            "text/plain": [
              "'\\nGraph one shows that the model is learning, mbut failed to generalize on the validation.\\nThis is a form of overfitting the data. Our model is too complex for our data.\\n\\nSolutions: Obtain more data to avoid overfitting or perform overfitting techniques\\n'"
            ],
            "application/vnd.google.colaboratory.intrinsic+json": {
              "type": "string"
            }
          },
          "metadata": {},
          "execution_count": 18
        }
      ]
    },
    {
      "cell_type": "code",
      "source": [
        "import tensorflow as tf\n",
        "\n",
        "# Changes the large regualr file into a tensorflow lite file\n",
        "converter = tf.lite.TFLiteConverter.from_keras_model(new_model)\n",
        "tflite_model = converter.convert()\n",
        "\n",
        "# https://medium.com/axinc-ai/convert-keras-models-to-tensorflow-lite-e654994fb93c\n",
        "with open('/content/drive/MyDrive/vgg16.tflite', 'wb') as f:\n",
        "    f.write(tflite_model)"
      ],
      "metadata": {
        "colab": {
          "base_uri": "https://localhost:8080/"
        },
        "id": "eKl3z05qC1sk",
        "outputId": "291a1cc6-8831-43fe-a389-e134105c3928"
      },
      "execution_count": null,
      "outputs": [
        {
          "output_type": "stream",
          "name": "stderr",
          "text": [
            "WARNING:absl:Found untraced functions such as _jit_compiled_convolution_op, _jit_compiled_convolution_op, _jit_compiled_convolution_op, _jit_compiled_convolution_op, _jit_compiled_convolution_op while saving (showing 5 of 13). These functions will not be directly callable after loading.\n"
          ]
        }
      ]
    }
  ]
}